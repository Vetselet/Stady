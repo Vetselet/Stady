{
 "cells": [
  {
   "cell_type": "markdown",
   "metadata": {},
   "source": [
    "# Отчет по практическому заданию №1 \n",
    "## Постановка задачи\n",
    "Вычислить интеграл $\\displaystyle{\\int\\limits_{-1}^1dx\\int\\limits_{-1}^1dy\\int\\limits_{-1}^1dz  ~ \\frac{1}{2+x^2+y^2+z^2}}$ с точность 3\\% методом Монте-Карло.\n",
    "\n",
    "# Тройной интеграл, решение с помощью библиотеки scipy"
   ]
  },
  {
   "cell_type": "code",
   "execution_count": 1,
   "metadata": {},
   "outputs": [
    {
     "name": "stdout",
     "output_type": "stream",
     "text": [
      "(2.7464757046266577, 1.776353308652888e-11)\n"
     ]
    }
   ],
   "source": [
    "import scipy.integrate\n",
    "\n",
    "def f(x, y, z): return 1/(2+x**2+y**2+z**2)  # Задаю функцию \n",
    "\n",
    "I=scipy.integrate.tplquad(f, -1, 1, lambda x: -1, lambda x: 1, lambda x, y: -1, lambda x, y: 1)  # Интегрирует\n",
    "\n",
    "print(I)\n"
   ]
  },
  {
   "cell_type": "markdown",
   "metadata": {},
   "source": [
    "### Получили значение интеграла равное $2.76475704627 \\pm 1.7 \\cdot 10^{-11}$\n",
    "# Решение тройного интеграла методом Монте-Карло\n",
    "Задаю случайные числа"
   ]
  },
  {
   "cell_type": "code",
   "execution_count": 2,
   "metadata": {},
   "outputs": [
    {
     "name": "stdout",
     "output_type": "stream",
     "text": [
      "[[ 0.05072681  0.1821067   0.40477957 ...  0.07760908  0.59712562\n",
      "   0.43461303]\n",
      " [ 0.75593891  0.42929681  0.75462284 ...  0.5832788   0.94242863\n",
      "   0.61378593]\n",
      " [ 0.08484965 -0.47150152  0.99872102 ...  0.17777797  0.22496545\n",
      "   0.28154638]\n",
      " [ 0.77180008 -0.01647726 -0.16627    ... -0.91981877 -0.12580149\n",
      "   0.25677904]]\n"
     ]
    }
   ],
   "source": [
    "import numpy as np\n",
    "N=100000\n",
    "\n",
    "xu=np.random.sample((N))    # Создаю случайные числа от 0 до 1\n",
    "xr=2*np.random.sample((3,N)) -1  # Создаю случайные числа от -1 до 1 для трёх осей: x,y,z\n",
    "\n",
    "x=np.vstack((xu,xr))       # Объединяю 2 массива\n",
    "\n",
    "print(x)"
   ]
  },
  {
   "cell_type": "markdown",
   "metadata": {},
   "source": [
    "### Сравниваю случайные точки с заданным распределением"
   ]
  },
  {
   "cell_type": "code",
   "execution_count": 3,
   "metadata": {},
   "outputs": [
    {
     "name": "stdout",
     "output_type": "stream",
     "text": [
      "0.34597\n"
     ]
    }
   ],
   "source": [
    "p=0 # Кол-во подходящих значений\n",
    "q=0 \n",
    "\n",
    "for i in range(N):\n",
    "    f=1/((x[1,i])**2+(x[2,i])**2+(x[3,i])**2+2)\n",
    "#  f=1/((y0[i])**2+(y1[i])**2+(y2[i])**2+2)\n",
    "    if x[0,i]<f:\n",
    "        p+=1\n",
    "    else:\n",
    "        q+=1\n",
    "print(p/(p+q))"
   ]
  },
  {
   "cell_type": "code",
   "execution_count": 4,
   "metadata": {},
   "outputs": [
    {
     "name": "stdout",
     "output_type": "stream",
     "text": [
      "2.76776\n"
     ]
    }
   ],
   "source": [
    "print(p/(p+q)*8)"
   ]
  },
  {
   "cell_type": "markdown",
   "metadata": {},
   "source": [
    "Умножение на 8 нужно, так как для четырех-мерного измерения получился рассматриваемый объем случайных чисел $V^4 = 2 \\cdot 2\\cdot 2\\cdot 1$ для x, y, z и f(x,y,z) соответственно"
   ]
  },
  {
   "cell_type": "markdown",
   "metadata": {},
   "source": [
    "# Оценка дисперсии"
   ]
  },
  {
   "cell_type": "code",
   "execution_count": 5,
   "metadata": {},
   "outputs": [
    {
     "name": "stdout",
     "output_type": "stream",
     "text": [
      "49869.16785737034 33231.6386169109 8.362383212877242e-07\n"
     ]
    }
   ],
   "source": [
    "s=0\n",
    "s2=0\n",
    "D=0\n",
    "\n",
    "for i in range(N):\n",
    "    s+=(x[0,i])\n",
    "    s2+=(x[0,i])**2\n",
    "    \n",
    "D+=1/(N-1)*(1/N*s2-(1/N*s)**2)\n",
    "\n",
    "print(s,s2,D)"
   ]
  },
  {
   "cell_type": "code",
   "execution_count": 6,
   "metadata": {},
   "outputs": [
    {
     "name": "stdout",
     "output_type": "stream",
     "text": [
      "0.2743382017071177 %\n"
     ]
    }
   ],
   "source": [
    "print(3*np.sqrt(D)*100, '%')"
   ]
  },
  {
   "cell_type": "markdown",
   "metadata": {},
   "source": [
    "###  Таким образом для N=900 ошибка с вероятностью 0.997 не превосходит 0,3%"
   ]
  },
  {
   "cell_type": "markdown",
   "metadata": {},
   "source": [
    "## Наглядное представление кол-ва использованных случайных точек"
   ]
  },
  {
   "cell_type": "code",
   "execution_count": 7,
   "metadata": {},
   "outputs": [
    {
     "data": {
      "image/png": "[encoded data removed]",
      "text/plain": [
       "<Figure size 432x288 with 1 Axes>"
      ]
     },
     "metadata": {
      "needs_background": "light"
     },
     "output_type": "display_data"
    }
   ],
   "source": [
    "import matplotlib.pyplot as plt\n",
    "\n",
    "fig = plt.figure()\n",
    "\n",
    "ax = fig.add_subplot(111, projection='3d')\n",
    "\n",
    "ax.set_xlabel('x')\n",
    "ax.set_ylabel('y')\n",
    "ax.set_zlabel('z')\n",
    "\n",
    "ax.scatter(x[1,:],x[2,:],x[3,:])\n",
    "\n",
    "plt.show()"
   ]
  },
  {
   "cell_type": "code",
   "execution_count": null,
   "metadata": {},
   "outputs": [],
   "source": []
  },
  {
   "cell_type": "code",
   "execution_count": null,
   "metadata": {},
   "outputs": [],
   "source": []
  }
 ],
 "metadata": {
  "kernelspec": {
   "display_name": "Python 3",
   "language": "python",
   "name": "python3"
  },
  "language_info": {
   "codemirror_mode": {
    "name": "ipython",
    "version": 3
   },
   "file_extension": ".py",
   "mimetype": "text/x-python",
   "name": "python",
   "nbconvert_exporter": "python",
   "pygments_lexer": "ipython3",
   "version": "3.8.5"
  },
  "widgets": {
   "application/vnd.jupyter.widget-state+json": {
    "state": {},
    "version_major": 2,
    "version_minor": 0
   }
  }
 },
 "nbformat": 4,
 "nbformat_minor": 4
}
