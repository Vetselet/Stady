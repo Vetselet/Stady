{
 "cells": [
  {
   "cell_type": "markdown",
   "metadata": {},
   "source": [
    "#  Отчет по практическому заданию №2 \n",
    "## Постановка задачи\n",
    "\n",
    "   Написать и отладить процедуру, вычисляющую определенный интеграл от функции одного действительного переменного по квадратурной формуле Симпсона. Подпрограмма должна обеспечивать автоматический контроль точности и деление интервала интегрирования на подынтервалы там, где это необходимо.\n"
   ]
  },
  {
   "cell_type": "markdown",
   "metadata": {},
   "source": [
    "Формула Симпсона основана на замене подынтегральной функции f(x) на отрезке [a, b] дугой параболы, т.е. функция f(x) аппроксимируется параболой вида: $P(x)=\\alpha x^2 + \\beta x + \\gamma$.\n",
    "\n",
    "Разобъем отрезок $[a,b]$ на четное число равных отрезков $n = 2m$, при этом точки $x_0, x_2, x_4, ... , x_{n-2}, x_n$ - точки деления ($x_0 = a, x_n = b$). Обозначим через $x_1, x_3, x_5$, ... середины отрезков $[x_0, x_2], [x_2, x_4], [x_4, x_6]$ и т.д. Применив для каждого отрезка разбиения элементарную формулу Симпсона, получим формулу парабол."
   ]
  },
  {
   "cell_type": "markdown",
   "metadata": {},
   "source": [
    "### $\\displaystyle{\\int\\limits_a^b f(x) dx \\approx \\frac{h}{3} ~ [y_0 + y_n + 2(y_{2}+y_4+...+y_{n-2})+4(y_1+y_3+...+y_{n-1})]}$ "
   ]
  },
  {
   "cell_type": "markdown",
   "metadata": {},
   "source": [
    "### Введем начальные данные"
   ]
  },
  {
   "cell_type": "code",
   "execution_count": 197,
   "metadata": {},
   "outputs": [],
   "source": [
    "n=10    # кол-во интервалов разбиения \n",
    "a=-2    # нижний предел интегрирования\n",
    "b=1     # верхний предел интегрирования\n",
    "\n",
    "            # задаем функцию, y1 для подсчета производной, f(x) для нахоождения интеграла\n",
    "y1=x1**6 -x1**4   \n",
    "def f(x):\n",
    "    return float(x)**6 -float(x)**4"
   ]
  },
  {
   "cell_type": "code",
   "execution_count": 198,
   "metadata": {},
   "outputs": [
    {
     "name": "stdout",
     "output_type": "stream",
     "text": [
      "[-2.  -1.7 -1.4 -1.1 -0.8 -0.5 -0.2  0.1  0.4  0.7  1. ]\n"
     ]
    }
   ],
   "source": [
    "import numpy as np\n",
    "h = (b-a)/n       # интервал \n",
    "x=np.arange(a, b+h, h)    \n",
    "print(x)"
   ]
  },
  {
   "cell_type": "code",
   "execution_count": 199,
   "metadata": {},
   "outputs": [
    {
     "name": "stdout",
     "output_type": "stream",
     "text": [
      "11.872889999999996\n"
     ]
    }
   ],
   "source": [
    "c2 = 0\n",
    "c4 = 0\n",
    "for i in range(1, int((n)/2)):\n",
    "    c2 += f(x[2*i])   \n",
    "    c4 += f(x[2*i-1])\n",
    "        \n",
    "c4 += f(x[n-1])\n",
    "\n",
    "I = h/3 * (f(x[0])+f(x[n])+2*c2+4*c4)\n",
    "\n",
    "print(I)"
   ]
  },
  {
   "cell_type": "markdown",
   "metadata": {},
   "source": [
    "### Интеграл равен I = 11.87"
   ]
  },
  {
   "cell_type": "markdown",
   "metadata": {},
   "source": [
    "## Поиск остаточного члена R\n",
    "$ \\displaystyle{R \\simeq - \\frac{(b-a) ~ h^4 ~ f^{IV}_{max}}{180}} $"
   ]
  },
  {
   "cell_type": "markdown",
   "metadata": {},
   "source": [
    "### Поиск четвертой производной"
   ]
  },
  {
   "cell_type": "code",
   "execution_count": 200,
   "metadata": {},
   "outputs": [
    {
     "name": "stdout",
     "output_type": "stream",
     "text": [
      "24*(15*x**2 - 1)\n"
     ]
    }
   ],
   "source": [
    "from sympy import *\n",
    "x1 = symbols('x')\n",
    "pr4 = diff(y1,x1,4)  # взяли четвертую производную по х\n",
    "\n",
    "print(pr4)"
   ]
  },
  {
   "cell_type": "markdown",
   "metadata": {},
   "source": [
    "### Поиск максимума четвертой производной на интервале $[a,b]$"
   ]
  },
  {
   "cell_type": "code",
   "execution_count": 201,
   "metadata": {},
   "outputs": [
    {
     "name": "stdout",
     "output_type": "stream",
     "text": [
      "1416\n"
     ]
    }
   ],
   "source": [
    "from sympy import solveset, symbols, Interval, Min, Max\n",
    "x = symbols('x')\n",
    "\n",
    "lower_bound = a\n",
    "upper_bound = b\n",
    "\n",
    "f = pr4\n",
    "\n",
    "zeros = solveset(f, x, domain=Interval(lower_bound, upper_bound))\n",
    "assert zeros.is_FiniteSet # If there are infinite solutions the next line will hang.\n",
    "res_min = Min(f.subs(x, lower_bound), f.subs(x, upper_bound), *[f.subs(x, i) for i in zeros])\n",
    "res_max = Max(f.subs(x, lower_bound), f.subs(x, upper_bound), *[f.subs(x, i) for i in zeros])\n",
    "print(res_max)"
   ]
  },
  {
   "cell_type": "markdown",
   "metadata": {},
   "source": [
    "### Точность вычисления интеграла"
   ]
  },
  {
   "cell_type": "code",
   "execution_count": 202,
   "metadata": {},
   "outputs": [
    {
     "name": "stdout",
     "output_type": "stream",
     "text": [
      "-0.191160000000000\n"
     ]
    }
   ],
   "source": [
    "R = - (b-a)/180*h**4*res_max\n",
    "print(R)"
   ]
  },
  {
   "cell_type": "markdown",
   "metadata": {},
   "source": [
    "## Таким образом, $I = 11.9  \\pm 0.2 $"
   ]
  },
  {
   "cell_type": "code",
   "execution_count": null,
   "metadata": {},
   "outputs": [],
   "source": []
  }
 ],
 "metadata": {
  "kernelspec": {
   "display_name": "Python 3",
   "language": "python",
   "name": "python3"
  },
  "language_info": {
   "codemirror_mode": {
    "name": "ipython",
    "version": 3
   },
   "file_extension": ".py",
   "mimetype": "text/x-python",
   "name": "python",
   "nbconvert_exporter": "python",
   "pygments_lexer": "ipython3",
   "version": "3.8.5"
  }
 },
 "nbformat": 4,
 "nbformat_minor": 4
}
