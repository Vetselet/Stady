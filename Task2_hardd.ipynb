{
 "cells": [
  {
   "cell_type": "markdown",
   "metadata": {},
   "source": [
    "#  Отчет по практическому заданию №2 \n",
    "## Постановка задачи\n",
    "\n",
    "   Написать и отладить процедуру, вычисляющую определенный интеграл от функции одного действительного переменного по квадратурной формуле Симпсона. Подпрограмма должна обеспечивать автоматический контроль точности и деление интервала интегрирования на подынтервалы там, где это необходимо.\n",
    "   \n",
    "   \n",
    "## Вычисление интеграла по квадратурной формуле Симпсона \n",
    "\n",
    "Формула Симпсона основана на замене подынтегральной функции f(x) на отрезке [a, b] дугой параболы, т.е. функция f(x) аппроксимируется параболой вида: $P(x)=\\alpha x^2 + \\beta x + \\gamma$.\n",
    "\n",
    "Разобъем отрезок $[a,b]$ на четное число равных отрезков $n = 2m$, при этом точки $x_0, x_2, x_4, ... , x_{n-2}, x_n$ - точки деления ($x_0 = a, x_n = b$). Обозначим через $x_1, x_3, x_5$, ... середины отрезков $[x_0, x_2], [x_2, x_4], [x_4, x_6]$ и т.д. Применив для каждого отрезка разбиения элементарную формулу Симпсона, получим формулу парабол.\n",
    "\n",
    "### $\\displaystyle{I ~ = ~\\int\\limits_a^b f(x) dx \\approx \\frac{h}{3} ~ [y_0 + y_n + 2(y_{2}+y_4+...+y_{n-2})+4(y_1+y_3+...+y_{n-1})]}$ "
   ]
  },
  {
   "cell_type": "markdown",
   "metadata": {},
   "source": [
    "## Оценка точности вычисления\n",
    "\n",
    "Интеграл вычисляется по формуле парабол Симпсона при числе шагов, равном n, а затем при числе шагов, равном 2n. Погрешность вычисления значения интеграла при числе шагов, равном 2n, определяется по формуле Рунге:\n",
    "${\\displaystyle \\Delta \\approx \\frac{1}{15} |I_{2n}-I_{n}|}$\n",
    "\n",
    "Таким образом, интеграл вычисляется для последовательных значений числа шагов ${\\displaystyle N = n, 2n, 4n,\\dots }$ , где ${\\displaystyle n}$ — начальное число шагов. \n",
    "\n",
    "Процесс вычислений заканчивается, когда для очередного значения N будет выполнено условие ${\\displaystyle \\Delta <\\varepsilon  }$, где ${\\displaystyle \\varepsilon }$  — заданная точность."
   ]
  },
  {
   "cell_type": "markdown",
   "metadata": {},
   "source": [
    "### Введем начальные данные $a, b, E, y1$"
   ]
  },
  {
   "cell_type": "code",
   "execution_count": 2,
   "metadata": {},
   "outputs": [
    {
     "name": "stdout",
     "output_type": "stream",
     "text": [
      "1/(x + 1)\n"
     ]
    }
   ],
   "source": [
    "from sympy import *\n",
    "import numpy as np\n",
    "\n",
    "\n",
    "a=0    # нижний предел интегрирования\n",
    "b=1     # верхний предел интегрирования\n",
    "E = 0.00001  #задаем точность вычисления\n",
    "\n",
    "x1 = symbols('x')        # задаем функцию, y1 для подсчета производной, f(x) для нахождения интеграла\n",
    "y1=1/(x1+1) \n",
    "print(y1)\n",
    "def f(x):\n",
    "    return 1/(float(x)+1)"
   ]
  },
  {
   "cell_type": "code",
   "execution_count": 3,
   "metadata": {},
   "outputs": [
    {
     "name": "stdout",
     "output_type": "stream",
     "text": [
      "[0.   0.25 0.5  0.75 1.  ]\n",
      "[0.    0.125 0.25  0.375 0.5   0.625 0.75  0.875 1.   ]\n"
     ]
    }
   ],
   "source": [
    "n=4    # исходное кол-во интервалов разбиения \n",
    "h = (b-a)/n       # интервал \n",
    "h2 = (b-a)/(2*n) \n",
    "x=np.arange(a, b+h, h) \n",
    "x2=np.arange(a, b+h2, h2) \n",
    "print(x)\n",
    "print(x2)"
   ]
  },
  {
   "cell_type": "code",
   "execution_count": 4,
   "metadata": {},
   "outputs": [
    {
     "name": "stdout",
     "output_type": "stream",
     "text": [
      "0.6932539682539682 0.6931545306545306\n"
     ]
    }
   ],
   "source": [
    "c2 = c4 = c22 = c24 = 0\n",
    "                            \n",
    "for i in range(1, int((n)/2)):\n",
    "    c2 += f(x[2*i])   \n",
    "    c4 += f(x[2*i-1])\n",
    "c4 += f(x[n-1])    \n",
    "\n",
    "I = h/3 * (f(x[0])+f(x[n])+2*c2+4*c4)\n",
    "\n",
    "for i in range(1, int(n)):    \n",
    "    c22 += f(x2[2*i]) \n",
    "    c24 += f(x2[2*i-1])\n",
    "    \n",
    "c24 += f(x2[2*n-1])\n",
    "\n",
    "Ik = h2/3 * (f(x2[0])+f(x2[2*n])+2*c22+4*c24)\n",
    "\n",
    "print(I,Ik)"
   ]
  },
  {
   "cell_type": "markdown",
   "metadata": {},
   "source": [
    "### Сравниваем значения интегралов при n, 2n, 4n ..."
   ]
  },
  {
   "cell_type": "code",
   "execution_count": 5,
   "metadata": {
    "scrolled": true
   },
   "outputs": [
    {
     "name": "stdout",
     "output_type": "stream",
     "text": [
      "8 0.25\n",
      "0.6932539682539682 +- 6.629173295843079e-06\n"
     ]
    }
   ],
   "source": [
    "k=2*n\n",
    "\n",
    "while abs(Ik-I)/15>E:\n",
    "    I=Ik\n",
    "    c2=0\n",
    "    c4=0\n",
    "    k = k*2\n",
    "    h=(b-a)/k\n",
    "    x=np.arange(a, b+h, h)\n",
    "    \n",
    "    for i in range(1, int(k/2)):    \n",
    "        c2 += f(x[2*i]) \n",
    "        c4 += f(x[2*i-1])\n",
    "    c4 += f(x[k-1]) \n",
    "    \n",
    "    Ik = (b-a)/(k*3) * (f(x[0])+f(x[k])+2*c2+4*c4)\n",
    "print(k,h)\n",
    "print(I, '+-' , abs(Ik-I)/15)"
   ]
  },
  {
   "cell_type": "markdown",
   "metadata": {},
   "source": [
    "## Таким образом, $I = 0.693254  \\pm 0.000007 $"
   ]
  },
  {
   "cell_type": "markdown",
   "metadata": {},
   "source": [
    "## Второй способ вычисления интервала для требуемого уровня точности\n",
    "\n",
    "$ \\displaystyle{R \\simeq - \\frac{(b-a) ~ h^4 ~ f^{IV}_{max}}{180}} $   $~~~$ - $~~~$  остаточный член\n",
    "\n",
    "Для получения точности $\\varepsilon$ нужен шаг \n",
    "\n",
    "### ${\\displaystyle h_{\\varepsilon} < \\left( \\frac{180 \\varepsilon }{(b-a) f^{IV}_{max}} \\right) ^{1/4}   }$\n",
    "\n",
    "\n",
    "\n",
    "\n"
   ]
  },
  {
   "cell_type": "markdown",
   "metadata": {},
   "source": [
    "### Поиск четвертой производной"
   ]
  },
  {
   "cell_type": "code",
   "execution_count": 6,
   "metadata": {},
   "outputs": [
    {
     "name": "stdout",
     "output_type": "stream",
     "text": [
      "24/(x + 1)**5\n"
     ]
    }
   ],
   "source": [
    "pr4 = diff(y1,x1,4)  # взяли четвертую производную по х\n",
    "\n",
    "print(pr4)"
   ]
  },
  {
   "cell_type": "markdown",
   "metadata": {},
   "source": [
    "### Поиск максимума четвертой производной на интервале $[a,b]$"
   ]
  },
  {
   "cell_type": "code",
   "execution_count": 7,
   "metadata": {},
   "outputs": [
    {
     "name": "stdout",
     "output_type": "stream",
     "text": [
      "24\n"
     ]
    }
   ],
   "source": [
    "from sympy import solveset, symbols, Interval, Min, Max\n",
    "x = symbols('x')\n",
    "\n",
    "lower_bound = a\n",
    "upper_bound = b\n",
    "\n",
    "f = pr4\n",
    "\n",
    "zeros = solveset(f, x, domain=Interval(lower_bound, upper_bound))\n",
    "assert zeros.is_FiniteSet # If there are infinite solutions the next line will hang.\n",
    "res_min = Min(f.subs(x, lower_bound), f.subs(x, upper_bound), *[f.subs(x, i) for i in zeros])\n",
    "res_max = Max(f.subs(x, lower_bound), f.subs(x, upper_bound), *[f.subs(x, i) for i in zeros])\n",
    "print(res_max)"
   ]
  },
  {
   "cell_type": "code",
   "execution_count": 8,
   "metadata": {},
   "outputs": [
    {
     "name": "stdout",
     "output_type": "stream",
     "text": [
      "0.0930604859102100 0.25\n"
     ]
    }
   ],
   "source": [
    "h_E=(180*E/(b-a)/res_max)**(1/4)\n",
    "print(h_E,h)"
   ]
  },
  {
   "cell_type": "markdown",
   "metadata": {},
   "source": [
    "### Результат второго метода ${\\displaystyle h_{\\varepsilon} = 0.093}$ меньше, чем резульат первого метода ${\\displaystyle h = 0.25}$ "
   ]
  },
  {
   "cell_type": "markdown",
   "metadata": {},
   "source": [
    "### Остаточный член"
   ]
  },
  {
   "cell_type": "code",
   "execution_count": 9,
   "metadata": {},
   "outputs": [
    {
     "name": "stdout",
     "output_type": "stream",
     "text": [
      "-0.000520833333333333\n"
     ]
    }
   ],
   "source": [
    "R = - (b-a)/180*h**4*res_max\n",
    "print(R)"
   ]
  },
  {
   "cell_type": "code",
   "execution_count": null,
   "metadata": {},
   "outputs": [],
   "source": []
  },
  {
   "cell_type": "code",
   "execution_count": null,
   "metadata": {},
   "outputs": [],
   "source": []
  }
 ],
 "metadata": {
  "kernelspec": {
   "display_name": "Python 3",
   "language": "python",
   "name": "python3"
  },
  "language_info": {
   "codemirror_mode": {
    "name": "ipython",
    "version": 3
   },
   "file_extension": ".py",
   "mimetype": "text/x-python",
   "name": "python",
   "nbconvert_exporter": "python",
   "pygments_lexer": "ipython3",
   "version": "3.8.5"
  }
 },
 "nbformat": 4,
 "nbformat_minor": 4
}
